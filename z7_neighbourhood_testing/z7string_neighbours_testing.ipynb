{
 "cells": [
  {
   "cell_type": "code",
   "execution_count": 1,
   "id": "d4981b3b-a37a-4f5e-8b4e-6575525081c2",
   "metadata": {},
   "outputs": [],
   "source": [
    "from dggrid4py import DGGRIDv7\n",
    "from dggrid4py import igeo7\n",
    "import tempfile\n",
    "import shapely\n",
    "from shapely.ops import transform\n",
    "import pyproj\n",
    "import geopandas as gpd\n",
    "from matplotlib import pyplot as plt\n",
    "from find_neighbours import find_neighbours\n",
    "import numpy as np\n",
    "import tqdm\n",
    "import warnings\n",
    "import pandas as pd\n",
    "warnings.filterwarnings(\"ignore\")"
   ]
  },
  {
   "cell_type": "code",
   "execution_count": 2,
   "id": "1978be33-53bd-4f70-906f-50a1d3fd23dc",
   "metadata": {},
   "outputs": [],
   "source": [
    "# using dggrid4py 0.4.0\n",
    "tmp = tempfile.TemporaryDirectory()\n",
    "dggrid = DGGRIDv7('/home/dick/micromamba/envs/xdggs/bin/dggrid', working_dir=tmp.name, silent=True)"
   ]
  },
  {
   "cell_type": "markdown",
   "id": "8d3fda7f-b645-4428-9265-ff7b61efafa5",
   "metadata": {},
   "source": [
    "## Using [z7_k_ring_neighbours](https://gitlab.ut.ee/geog/lgeo_datacube/-/issues/99) for validation"
   ]
  },
  {
   "cell_type": "code",
   "execution_count": 3,
   "id": "aa5be78a-6ace-4e7f-9b52-944e29653df7",
   "metadata": {
    "jupyter": {
     "source_hidden": true
    }
   },
   "outputs": [],
   "source": [
    "def z7_k_ring_neighbours(z7_str, dggrid_instance, cls_m, k_ring = 1):\n",
    "    resolution = igeo7.get_z7string_resolution(z7_str)\n",
    "    parent, local_pos, is_center = igeo7.get_z7string_local_pos(z7_str)\n",
    "\n",
    "    if is_center:\n",
    "        # print(\"could be straightforward return: replace 0 with 1-6\")\n",
    "        pass\n",
    "\n",
    "    if k_ring <= 0:\n",
    "        raise ValueError(f\"K-ring with {k_ring} (self) or negative (error). Should be 1 or larger.\")\n",
    "    elif k_ring > 1:\n",
    "        raise ValueError(f\"K-ring with larger than 1 ({k_ring}) not yet implemented.\")\n",
    "\n",
    "    # gdf = dggrid_instance.grid_cell_polygons_from_cellids(df.index,\n",
    "    the_one = dggrid_instance.grid_cell_centroids_from_cellids([z7_str],\n",
    "                                                dggs_type='IGEO7',\n",
    "                                                resolution=resolution,\n",
    "                                                input_address_type='Z7_STRING',\n",
    "                                                output_address_type='Z7_STRING').iloc[0]['geometry']\n",
    "\n",
    "    if not (-180 <= the_one.x <= 180) and not (-90 <= the_one.y <= 90):\n",
    "        raise ValueError(f\"Not a valid WGS84 geom: {str(the_one.wkt)}\")\n",
    "        \n",
    "    local_proj_str = f\"+proj=laea +lat_0={the_one.y} +lon_0={the_one.x}\"\n",
    "    local_projection = pyproj.Transformer.from_crs('EPSG:4236', local_proj_str, always_xy=True).transform\n",
    "    lamb_geom = transform(local_projection, the_one)\n",
    "\n",
    "    # mistake lamb_point ---> neighbour_field_local = lamb_point.buffer(cls_m)\n",
    "    neighbour_field_local = lamb_geom.buffer(cls_m)\n",
    "\n",
    "    inverse = pyproj.Transformer.from_crs(local_proj_str, 'EPSG:4236', always_xy=True).transform\n",
    "    neighbour_field = transform(inverse, neighbour_field_local)\n",
    "    \n",
    "    k_ring_group = dggrid_instance.grid_cell_centroids_for_extent('IGEO7', resolution, clip_geom=neighbour_field, output_address_type='Z7_STRING')\n",
    "    k_ring_group.crs = 4326\n",
    "    # we could technically already drop the geometry? But maybe need for the orientations\n",
    "\n",
    "    # we should drop the centre, right?!\n",
    "    k_ring_group = k_ring_group.drop(k_ring_group.loc[k_ring_group['name'] == z7_str].index[0])\n",
    "    # ideally we order/index them according to Z7 local_pos\n",
    "    \n",
    "    k_ring_group['local_pos'] = k_ring_group['name'].apply(lambda cellid: cellid[-1:])\n",
    "    return k_ring_group\n",
    "    \n",
    "def dggrid_get_res(dggrid_instance, dggrid_dggs=\"ISEA7H\", max_res=16):\n",
    "\n",
    "    isea7h_res = dggrid_instance.grid_stats_table(dggrid_dggs, max_res)\n",
    "    isea7h_res = isea7h_res.rename(\n",
    "        columns={\n",
    "            \"Resolution\": f\"{dggrid_dggs}_resolution\",\n",
    "            \"Area (km^2)\": \"average_hexagon_area_km2\",\n",
    "            \"CLS (km)\": \"cls_km\",\n",
    "        }\n",
    "    )\n",
    "    isea7h_res = isea7h_res.rename(\n",
    "        columns={col: col.lower().replace(\" \", \"_\") for col in isea7h_res.columns}\n",
    "    ).set_index(f\"{dggrid_dggs.lower()}_resolution\")\n",
    "    isea7h_res[\"average_hexagon_area_m2\"] = np.float32(\n",
    "        isea7h_res[\"average_hexagon_area_km2\"] * 1000000\n",
    "    )\n",
    "    isea7h_res[\"cls_m\"] = np.float32(isea7h_res[\"cls_km\"] * 1000)\n",
    "    return isea7h_res\n"
   ]
  },
  {
   "cell_type": "markdown",
   "id": "d1709a2d-a633-4b49-929d-25f0a7be8841",
   "metadata": {},
   "source": [
    "## Generate cells id by using dggrid on a extent"
   ]
  },
  {
   "cell_type": "code",
   "execution_count": 7,
   "id": "4f60acc0-7045-4f6f-879b-2ad31a5e7249",
   "metadata": {},
   "outputs": [],
   "source": [
    "res=9\n",
    "#box = shapely.geometry.box(2542500., 1561500. ,6013500., 5417500)\n",
    "#tartu_polygon = shapely.Polygon([[26.496084308689888, 58.433055188203284],\n",
    "#          [26.496084308689888, 58.304134878290405],\n",
    "#          [26.903951740330513, 58.304134878290405],\n",
    "#          [26.903951740330513, 58.433055188203284]])\n",
    "#tartu_polygon.bounds\n",
    "#box = gpd.GeoSeries([shapely.box(*tartu_polygon.bounds)], crs='wgs84').to_crs('wgs84')\n",
    "#box.total_bounds\n",
    "#cellids_gdf = dggrid.grid_cell_polygons_for_extent('IGEO7', res, clip_geom=box.geometry.values[0], output_address_type='Z7_STRING')\n",
    "#cellids_gdf.to_parquet(f'testing_gpd_res_{res}.parquet')\n",
    "cellids_gdf = gpd.read_parquet(f'./testing_gpd_res_{res}.parquet')"
   ]
  },
  {
   "cell_type": "markdown",
   "id": "021f9551-a212-4830-80f5-b6bdf9ff7603",
   "metadata": {},
   "source": [
    "## Prepare validation set by sampling 10,000 cells id from the dataframe"
   ]
  },
  {
   "cell_type": "code",
   "execution_count": null,
   "id": "6f6e9505-4abd-4978-af5c-9dad7b48677e",
   "metadata": {},
   "outputs": [],
   "source": [
    "cls_m = dggrid_get_res(dggrid).iloc[res][-1]"
   ]
  },
  {
   "cell_type": "code",
   "execution_count": null,
   "id": "92a8d37a-af82-483b-8844-914721099934",
   "metadata": {},
   "outputs": [],
   "source": [
    "# generate 10000 sample from the validation set\n",
    "ridx = np.random.choice(len(cellids_gdf), 10000, replace=False)\n",
    "validation_set = {}\n",
    "for r in ridx:\n",
    "    neighbours = z7_k_ring_neighbours(cellids_gdf.iloc[r]['name'], dggrid, cls_m)['name'].values\n",
    "    validation_set[cellids_gdf.iloc[r]['name']] = neighbours"
   ]
  },
  {
   "cell_type": "code",
   "execution_count": null,
   "id": "019272af-3512-480e-b4f2-3980d0226423",
   "metadata": {},
   "outputs": [],
   "source": [
    "validattion_result = []\n",
    "for k, v in tqdm.tqdm(validation_set.items()):\n",
    "    n = find_neighbours(k)\n",
    "    leftlen = len(v)\n",
    "    # z7_kring sometime will return more than 6 neighbours\n",
    "    # so we check if n is a subset of v\n",
    "    r = set(n).issubset(set(v))\n",
    "    validattion_result.append([k, leftlen, r])"
   ]
  },
  {
   "cell_type": "code",
   "execution_count": null,
   "id": "060b509d-f7c3-4f65-bc79-a0298962fde6",
   "metadata": {},
   "outputs": [],
   "source": [
    "validattion_result = pd.DataFrame(validattion_result, columns=['cellid','z7_k_ring_len','issubset'])"
   ]
  },
  {
   "cell_type": "code",
   "execution_count": null,
   "id": "624732bc-0774-4e99-9c54-2670f844df12",
   "metadata": {},
   "outputs": [],
   "source": [
    "validattion_result[validattion_result['z7_k_ring_len']!=6]#.to_csv('z7_k_ring_more_than_6_neighours.csv',index=False)"
   ]
  },
  {
   "cell_type": "code",
   "execution_count": null,
   "id": "888d3f45-410b-4f8c-9b60-46443487c493",
   "metadata": {},
   "outputs": [],
   "source": [
    "validattion_result[validattion_result['issubset']==False]"
   ]
  },
  {
   "cell_type": "code",
   "execution_count": null,
   "id": "4218c6d0-7619-477c-95cf-1335ab594620",
   "metadata": {},
   "outputs": [],
   "source": [
    "z7_n = z7_k_ring_neighbours('0001026134005330', dggrid, cls_m)"
   ]
  },
  {
   "cell_type": "code",
   "execution_count": null,
   "id": "782476b6-9d22-4dca-b27a-f536882bf8f4",
   "metadata": {},
   "outputs": [],
   "source": [
    "n = find_neighbours('0001026134005330')\n",
    "n"
   ]
  },
  {
   "cell_type": "code",
   "execution_count": null,
   "id": "086e99b9-47d5-4386-a125-c879b4feb814",
   "metadata": {},
   "outputs": [],
   "source": [
    "z7_n_df = dggrid.grid_cell_polygons_from_cellids(z7_n['name'].values, 'IGEO7',res, input_address_type='Z7_STRING',output_address_type='Z7_STRING')"
   ]
  },
  {
   "cell_type": "code",
   "execution_count": null,
   "id": "2281cb83-a403-4324-8b49-3511e24fac06",
   "metadata": {},
   "outputs": [],
   "source": [
    "n_df = dggrid.grid_cell_polygons_from_cellids(n, 'IGEO7',res, input_address_type='Z7_STRING',output_address_type='Z7_STRING')"
   ]
  },
  {
   "cell_type": "code",
   "execution_count": null,
   "id": "8ca5b78d-0bc5-4d58-9916-de7cc00e1d78",
   "metadata": {},
   "outputs": [],
   "source": [
    "ax = z7_n_df.plot()\n",
    "z7_n_df.apply(lambda x: ax.annotate(text=x['name'], xy=x.geometry.centroid.coords[0], ha='center'), axis=1);"
   ]
  },
  {
   "cell_type": "code",
   "execution_count": null,
   "id": "850baf6f-c30c-4907-bff5-acbe8166649a",
   "metadata": {},
   "outputs": [],
   "source": [
    "ax = n_df.plot()\n",
    "n_df.apply(lambda x: ax.annotate(text=x['name'], xy=x.geometry.centroid.coords[0], ha='center'), axis=1);\n",
    "n"
   ]
  },
  {
   "cell_type": "code",
   "execution_count": null,
   "id": "7467c941-683a-45a4-bce2-c3a9cd7bfab6",
   "metadata": {},
   "outputs": [],
   "source": [
    "dggrid.grid_cell_polygons_from_cellids(['00021121233'], 'IGEO7',9, input_address_type='Z7_STRING',output_address_type='Z7_STRING')"
   ]
  },
  {
   "cell_type": "code",
   "execution_count": null,
   "id": "7be4c409-3829-4f7e-8bf5-4479344c1804",
   "metadata": {},
   "outputs": [],
   "source": [
    "dggrid.address_transform(['00021121233'], 'IGEO7', 9, input_address_type='Z7_STRING', output_address_type='Q2DI')"
   ]
  },
  {
   "cell_type": "code",
   "execution_count": null,
   "id": "ce1ff339-82ee-4350-89be-da1ceff53aaf",
   "metadata": {},
   "outputs": [],
   "source": [
    "dggrid.address_transform(['00063363622'], 'IGEO7', 9, input_address_type='Z7_STRING', output_address_type='Q2DI')"
   ]
  },
  {
   "cell_type": "code",
   "execution_count": 6,
   "id": "964cf5f4-30b9-46a9-945e-9320d1cc8e5a",
   "metadata": {},
   "outputs": [
    {
     "name": "stderr",
     "output_type": "stream",
     "text": [
      "100%|█████████████████████████████████████████████████████████████████████████████████████████████████████████████████████████████████████████████| 4534977/4534977 [36:41<00:00, 2060.25it/s]\n"
     ]
    }
   ],
   "source": [
    "for c in tqdm.tqdm(cellids_gdf['name'].values):\n",
    "    find_neighbours(c)"
   ]
  },
  {
   "cell_type": "code",
   "execution_count": 8,
   "id": "a5fa68d7-1cba-46b8-85cd-56a8e0db8c1b",
   "metadata": {},
   "outputs": [
    {
     "data": {
      "text/plain": [
       "(9668076, 2)"
      ]
     },
     "execution_count": 8,
     "metadata": {},
     "output_type": "execute_result"
    }
   ],
   "source": []
  },
  {
   "cell_type": "code",
   "execution_count": null,
   "id": "9393b6dd-fa47-4ced-a6b0-674bd7b16986",
   "metadata": {},
   "outputs": [],
   "source": []
  }
 ],
 "metadata": {
  "kernelspec": {
   "display_name": "Python 3 (ipykernel)",
   "language": "python",
   "name": "python3"
  },
  "language_info": {
   "codemirror_mode": {
    "name": "ipython",
    "version": 3
   },
   "file_extension": ".py",
   "mimetype": "text/x-python",
   "name": "python",
   "nbconvert_exporter": "python",
   "pygments_lexer": "ipython3",
   "version": "3.11.11"
  }
 },
 "nbformat": 4,
 "nbformat_minor": 5
}
