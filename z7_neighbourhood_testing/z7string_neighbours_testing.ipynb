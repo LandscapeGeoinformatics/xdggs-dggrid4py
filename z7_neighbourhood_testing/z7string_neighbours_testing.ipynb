{
 "cells": [
  {
   "cell_type": "code",
   "execution_count": 1,
   "id": "d4981b3b-a37a-4f5e-8b4e-6575525081c2",
   "metadata": {},
   "outputs": [],
   "source": [
    "from dggrid4py import DGGRIDv7\n",
    "import tempfile\n",
    "import shapely\n",
    "import geopandas as gpd\n",
    "from matplotlib import pyplot as plt\n",
    "from find_neighbours import find_neighbours\n",
    "import numpy as np"
   ]
  },
  {
   "cell_type": "code",
   "execution_count": 2,
   "id": "c20e4dac-e9c9-4dd8-85b3-c12782c453c1",
   "metadata": {},
   "outputs": [],
   "source": [
    "tmp = tempfile.TemporaryDirectory()\n",
    "dggrid = DGGRIDv7('/home/dick/micromamba/envs/xdggs/bin/dggrid', working_dir=tmp.name, silent=True)"
   ]
  },
  {
   "cell_type": "code",
   "execution_count": 5,
   "id": "334c6464-35c6-4864-87bf-d5a87e849ce4",
   "metadata": {},
   "outputs": [],
   "source": [
    "#box = shapely.geometry.box(2542500., 1561500. ,6013500., 5417500)\n",
    "#box = gpd.GeoSeries([box], crs='EPSG:3035').to_crs('wgs84')\n",
    "#cellids_gdf = dggrid.grid_cell_polygons_for_extent('IGEO7', 9, clip_geom=box.geometry.values[0], output_address_type='Z7_STRING')\n",
    "#cellids_gdf.to_parquet('testing_gpd.parquet')\n",
    "cellids_gdf = gpd.read_parquet('./testing_gpd.parquet')"
   ]
  },
  {
   "cell_type": "code",
   "execution_count": null,
   "id": "0ac9b94d-e445-4d76-afd9-8745d3fbc75c",
   "metadata": {},
   "outputs": [],
   "source": [
    "cellids_gdf.name"
   ]
  },
  {
   "cell_type": "code",
   "execution_count": 3,
   "id": "019272af-3512-480e-b4f2-3980d0226423",
   "metadata": {},
   "outputs": [],
   "source": [
    "n = find_neighbours('423403151')"
   ]
  },
  {
   "cell_type": "code",
   "execution_count": 4,
   "id": "060b509d-f7c3-4f65-bc79-a0298962fde6",
   "metadata": {},
   "outputs": [
    {
     "data": {
      "text/plain": [
       "array(['423403464', '423400153', '423403466', '423400155', '423400232',\n",
       "       '423400150'], dtype='<U9')"
      ]
     },
     "execution_count": 4,
     "metadata": {},
     "output_type": "execute_result"
    }
   ],
   "source": [
    "n"
   ]
  },
  {
   "cell_type": "code",
   "execution_count": null,
   "id": "624732bc-0774-4e99-9c54-2670f844df12",
   "metadata": {},
   "outputs": [],
   "source": [
    "np.apply_along_axis(''.join, -1, g)"
   ]
  },
  {
   "cell_type": "code",
   "execution_count": null,
   "id": "888d3f45-410b-4f8c-9b60-46443487c493",
   "metadata": {},
   "outputs": [],
   "source": [
    "g.tostring()"
   ]
  },
  {
   "cell_type": "code",
   "execution_count": null,
   "id": "4218c6d0-7619-477c-95cf-1335ab594620",
   "metadata": {},
   "outputs": [],
   "source": []
  }
 ],
 "metadata": {
  "kernelspec": {
   "display_name": "Python 3 (ipykernel)",
   "language": "python",
   "name": "python3"
  },
  "language_info": {
   "codemirror_mode": {
    "name": "ipython",
    "version": 3
   },
   "file_extension": ".py",
   "mimetype": "text/x-python",
   "name": "python",
   "nbconvert_exporter": "python",
   "pygments_lexer": "ipython3",
   "version": "3.11.11"
  }
 },
 "nbformat": 4,
 "nbformat_minor": 5
}
