{
 "cells": [
  {
   "cell_type": "code",
   "execution_count": 1,
   "id": "849e0b4c-b925-4160-885f-f79a59bb5bd0",
   "metadata": {},
   "outputs": [],
   "source": [
    "import numpy as np\n",
    "from scipy.ndimage import rotate\n",
    "from dggrid4py import DGGRIDv7\n",
    "import tempfile\n",
    "import shapely\n",
    "import geopandas as gpd\n",
    "from matplotlib import pyplot as plt"
   ]
  },
  {
   "cell_type": "code",
   "execution_count": 2,
   "id": "69a018cf-edb8-42af-a189-134cb0906e4d",
   "metadata": {},
   "outputs": [],
   "source": [
    "tmp = tempfile.TemporaryDirectory()\n",
    "dggrid = DGGRIDv7('/home/dick/micromamba/envs/xdggs/bin/dggrid', working_dir=tmp.name, silent=True)"
   ]
  },
  {
   "cell_type": "code",
   "execution_count": 3,
   "id": "9e5e188b-b56f-456c-b65b-b92bb9e763b3",
   "metadata": {},
   "outputs": [],
   "source": [
    "# to confirm the rotation is changing 19 from odd to even , -19 from even to odd \n",
    "#box = shapely.geometry.box(2542500., 1561500. ,6013500., 5417500)\n",
    "#box = gpd.GeoSeries([box], crs='EPSG:3035').to_crs('wgs84')\n",
    "#reg5 = dggrid.grid_cell_polygons_for_extent('IGEO7', 9, clip_geom=box.geometry.values[0], output_address_type='Z7_STRING')\n",
    "#reg5['name']\n",
    "#cellId = reg5['name'][0]\n",
    "#reg6 = dggrid.grid_cell_polygons_from_cellids([cellId], 'IGEO7', 2, clip_subset_type='COARSE_CELLS', clip_cell_res=1, input_address_type='Z7_STRING', output_address_type='Z7_STRING')\n",
    "#reg7 = dggrid.grid_cell_polygons_from_cellids([cellId], 'IGEO7', 3, clip_subset_type='COARSE_CELLS', clip_cell_res=1, input_address_type='Z7_STRING', output_address_type='Z7_STRING')\n",
    "#from matplotlib import pyplot as plt\n",
    "#fig, ax = plt.subplots(1,1,)\n",
    "#reg7.plot(ax=ax,facecolor='none', edgecolor='red')\n",
    "#reg6.plot(ax =ax, facecolor='none',edgecolor='blue')\n",
    "#reg5[reg5['name'] == cellId].plot(ax=ax,facecolor='none')"
   ]
  },
  {
   "cell_type": "code",
   "execution_count": 4,
   "id": "ceb3e92a-48de-4402-be51-01a0efcc653e",
   "metadata": {},
   "outputs": [],
   "source": [
    "directions = np.array([\n",
    "           complex(0,0), # 0 \n",
    "           complex(0.5,np.sqrt(3)/2), #1 \n",
    "           complex(0.5,-np.sqrt(3)/2), #2\n",
    "           complex(1,0), #3\n",
    "           complex(-1,0), #4\n",
    "           complex(-0.5,np.sqrt(3)/2), #5\n",
    "           complex(-0.5,-np.sqrt(3)/2) #6 \n",
    "        ])"
   ]
  },
  {
   "cell_type": "code",
   "execution_count": 5,
   "id": "238a8324-6bba-47a6-88cf-86b37095e09c",
   "metadata": {},
   "outputs": [
    {
     "data": {
      "text/plain": [
       "array([ 0.        +0.j        ,  0.28418807+0.24918724j,\n",
       "        0.07370844-0.37070771j,  0.35789652-0.12152047j,\n",
       "       -0.35789652+0.12152047j, -0.07370844+0.37070771j,\n",
       "       -0.28418807-0.24918724j])"
      ]
     },
     "execution_count": 5,
     "metadata": {},
     "output_type": "execute_result"
    }
   ],
   "source": [
    "# angele from CPI paper by Kevin \n",
    "angle = np.sqrt(3/28)\n",
    "scale_down = 1/np.sqrt(7)\n",
    "rotate_ccw19 = complex(np.cos(-angle), np.sin(-angle))\n",
    "directions * ( scale_down * rotate_ccw19)"
   ]
  },
  {
   "cell_type": "code",
   "execution_count": 15,
   "id": "98d8e256-3f80-43ff-a5af-a75a62e9b585",
   "metadata": {},
   "outputs": [
    {
     "name": "stdout",
     "output_type": "stream",
     "text": [
      "(-1+0j)\n",
      "(-0.9262915561708075-0.37070771257882074j)\n",
      "(-0.7834344133136647-0.37070771257882074j)\n",
      "(-0.834562487368904-0.3533476452274048j)\n",
      "(-0.834562487368904-0.3533476452274048j)\n",
      "(-0.8272584767895841-0.35582765484903567j)\n",
      "(-0.8258007508420622-0.35330279944441634j)\n",
      "(-0.8260156442643047-0.3522220189412711j)\n"
     ]
    }
   ],
   "source": [
    "cell_ids = \"42340315\"\n",
    "path = [directions[int(cell_ids[0])]]\n",
    "for i, c in enumerate(cell_ids[1:],1):\n",
    "    print(path[-1])\n",
    "    scaled_rotated = directions[int(c)] * ((scale_down**i * rotate_ccw19) if (i%2!=0) else (scale_down**i))\n",
    "    path += [path[-1]+scaled_rotated]\n",
    "print(path[-1])"
   ]
  },
  {
   "cell_type": "code",
   "execution_count": 16,
   "id": "afdd2301-1cdc-4f2a-88ad-6729dc1c9c67",
   "metadata": {},
   "outputs": [],
   "source": [
    "current_pos = path[-1]"
   ]
  },
  {
   "cell_type": "code",
   "execution_count": 17,
   "id": "a93db304-c2e0-487f-8cfe-e6e745921f80",
   "metadata": {},
   "outputs": [
    {
     "ename": "SyntaxError",
     "evalue": "invalid syntax (3659550058.py, line 1)",
     "output_type": "error",
     "traceback": [
      "  \u001b[36mCell\u001b[39m\u001b[36m \u001b[39m\u001b[32mIn[17]\u001b[39m\u001b[32m, line 1\u001b[39m\n\u001b[31m    \u001b[39m\u001b[31mneighbours = current_pos + directions[1:]*(scale_down**(len(cell_ids)-1) *  )\u001b[39m\n                                                                                ^\n\u001b[31mSyntaxError\u001b[39m\u001b[31m:\u001b[39m invalid syntax\n"
     ]
    }
   ],
   "source": [
    "neighbours = current_pos + directions[1:]*(scale_down**(len(cell_ids)-1) *  )"
   ]
  },
  {
   "cell_type": "code",
   "execution_count": 18,
   "id": "637cc540-aa0f-421c-9ff7-a6980131867d",
   "metadata": {},
   "outputs": [
    {
     "data": {
      "image/png": "[encoded data removed]",
      "text/plain": [
       "<Figure size 640x480 with 1 Axes>"
      ]
     },
     "metadata": {},
     "output_type": "display_data"
    }
   ],
   "source": [
    "X = [x.real for x in neighbours]\n",
    "Y = [x.imag for x in neighbours]\n",
    "plt.scatter(X,Y, color='red')\n",
    "plt.show()"
   ]
  },
  {
   "cell_type": "code",
   "execution_count": 19,
   "id": "c813677a-23ac-43fc-88e5-33a7fbfbd0a9",
   "metadata": {},
   "outputs": [],
   "source": [
    "def get_NN(neighbours, level, target=[]):\n",
    "    rotation = rotate_ccw19 if (level%2==1) else 1\n",
    "    # each neighbours's neighbours will contains original neighbours and the target\n",
    "    # but it is not correct to exclude those \"duplicated\" neigbhours to reduce computation.\n",
    "    # since it's neighbour may be the zero cell itself.\n",
    "    exclude = target\n",
    "    tmp_nn = np.repeat(neighbours,7).reshape(len(neighbours), -1)\n",
    "    scaled_rotated_directions = directions*(scale_down**(level) * rotation)\n",
    "    result = tmp_nn - scaled_rotated_directions\n",
    "    idx,jdx = np.where(np.abs(result-exclude)<1e-9)\n",
    "    result[idx,jdx]= np.inf\n",
    "    result[:,0]=np.inf\n",
    "    return result"
   ]
  },
  {
   "cell_type": "code",
   "execution_count": 20,
   "id": "4a7e11e9-0f1c-4f17-a9e1-7af35e7bb399",
   "metadata": {},
   "outputs": [],
   "source": [
    "nn = get_NN(neighbours, 8, [current_pos])\n",
    "scaled_directions = directions * (scale_down**(len(cell_ids)-1) * rotate_ccw19)\n",
    "all_zeros = path[-2] + 3  * scaled_directions"
   ]
  },
  {
   "cell_type": "code",
   "execution_count": 21,
   "id": "43e9ed0b-3da4-40ec-963c-804fcb303b83",
   "metadata": {},
   "outputs": [
    {
     "data": {
      "text/plain": [
       "<matplotlib.collections.PathCollection at 0x7fc6e4696c90>"
      ]
     },
     "execution_count": 21,
     "metadata": {},
     "output_type": "execute_result"
    },
    {
     "data": {
      "image/png": "[encoded data removed]",
      "text/plain": [
       "<Figure size 640x480 with 1 Axes>"
      ]
     },
     "metadata": {},
     "output_type": "display_data"
    }
   ],
   "source": [
    "fig, ax = plt.subplots()\n",
    "#X = [x.real for x in neighbours]\n",
    "#Y = [x.imag for x in neighbours]\n",
    "#ax.scatter(X,Y, color='red')\n",
    "X1 = [i.real for i in nn.flatten() if (i != np.inf)]\n",
    "Y1 = [i.imag for i in nn.flatten() if (i != np.inf)]\n",
    "ax.scatter(X1,Y1, color='orange', alpha=0.5)\n",
    "X2 = [i.real for i in all_zeros]\n",
    "Y2 = [i.imag for i in all_zeros]\n",
    "ax.scatter(X2,Y2, color='blue', alpha=0.5)"
   ]
  },
  {
   "cell_type": "code",
   "execution_count": 22,
   "id": "1a225c06-0a0c-4e1b-895e-e88799e54f4e",
   "metadata": {},
   "outputs": [],
   "source": [
    "rotation = rotate_ccw19 if ((len(cell_ids)-1)%2==1) else 1\n",
    "neighbours = current_pos + directions[1:]*(scale_down**(len(cell_ids)-1) *  rotation)"
   ]
  },
  {
   "cell_type": "code",
   "execution_count": 23,
   "id": "c5207b45-bc9b-43ce-8065-9ce4508544b4",
   "metadata": {},
   "outputs": [
    {
     "name": "stdout",
     "output_type": "stream",
     "text": [
      "[6 0 1 2 3 4]\n",
      "[4 1 1 2 2 1]\n",
      "[3 0 0 0 0 0]\n",
      "[0 0 0 0 0 0]\n",
      "[4 4 4 4 4 4]\n",
      "[3 3 3 3 3 3]\n",
      "[2 2 2 2 2 2]\n",
      "[4 4 4 4 4 4]\n"
     ]
    }
   ],
   "source": [
    "new_path = [0] + path\n",
    "for p in new_path[-2::-1]:\n",
    "    level = path.index(p)+1 if (p != 0) else 0\n",
    "    p = new_path[0] if (p == 0) else p\n",
    "    # parent's level roatation \n",
    "    rotation = rotate_ccw19 if ((level-1)%2==1 and (p != 0)) else 1\n",
    "    # get the neighbour's neighbours at current level\n",
    "    #print(f'{p} {level} {rotation} {(np.power(scale_down,level))}')\n",
    "    nn = get_NN(neighbours, level, [current_pos])\n",
    "    # get all near by zero cells location at parent's level, but with scaling at the current level \n",
    "    scaled_directions = directions * (np.power(scale_down,level) * rotation)\n",
    "    # here we use the property that zero cells are 3 unit away from each other at 6 direction (center at any zero cell)\n",
    "    # we center at the path intermediate \n",
    "    nearby_zeros = (p + 3  * scaled_directions).reshape(len(directions),1,1)\n",
    "    # expand the dim to perform pair-wise distance between neighbour's neighbours and nearby zeros (7 direction)\n",
    "    distance_matrix = np.abs(np.repeat(nn[np.newaxis, :, :], len(directions), axis=0) - nearby_zeros) / (np.power(scale_down,level))\n",
    "    distance_matrix = np.min(distance_matrix, axis=0)\n",
    "    # There are some cases that the distance to nearest zeros is 0.8 ~ 0.9 while all others are 1\n",
    "    # However, the distance is not significant to be consider \"closest\", so the distance is clipped with 0.5 (1 unit between each pair of cell, so 0.5 )\n",
    "    distance_matrix = np.where(1-distance_matrix<0.5,1,distance_matrix)\n",
    "    #print(distance_matrix)\n",
    "    # we choose the minimum distance (to the near by zero) as the direction where the neighbours come from.\n",
    "    reverse_direction = np.argmin(distance_matrix,axis=-1)\n",
    "    print(reverse_direction)\n",
    "    # Prepare for next level. Move all neighbours to the neaest zero. Those will become the neighbours in next level up\n",
    "    neighbours = neighbours - directions[reverse_direction] * (np.power(scale_down,level) * rotation)\n",
    "    nearby_zeros= nearby_zeros.reshape(7,)\n",
    "    neighbours = np.abs(np.repeat(neighbours[:, np.newaxis], len(directions), axis=-1) - nearby_zeros) / (np.power(scale_down,level))\n",
    "    neighbours = np.where(neighbours<1)[1]\n",
    "    #print(neighbours)\n",
    "    neighbours = nearby_zeros[neighbours]"
   ]
  },
  {
   "cell_type": "code",
   "execution_count": null,
   "id": "5a9f2314-337d-4004-bb64-307c8bb0fb19",
   "metadata": {},
   "outputs": [],
   "source": [
    "fig, ax = plt.subplots()\n",
    "X = [x.real for x in neighbours]\n",
    "Y = [x.imag for x in neighbours]\n",
    "ax.scatter(X,Y, color='red')\n",
    "X1 = [i.real for i in nn.flatten() if (i != np.inf)]\n",
    "Y1 = [i.imag for i in nn.flatten() if (i != np.inf)]\n",
    "ax.scatter(X1,Y1, color='orange', alpha=0.5)\n",
    "X2 = [i.real for i in nearby_zeros]\n",
    "Y2 = [i.imag for i in nearby_zeros]\n",
    "ax.scatter(X2,Y2, color='blue', alpha=0.5)"
   ]
  },
  {
   "cell_type": "code",
   "execution_count": null,
   "id": "ec50ecf7-36cc-4461-83ec-f5ad455b5340",
   "metadata": {},
   "outputs": [],
   "source": [
    "parent_child = dggrid.grid_cell_polygons_from_cellids(['0042340315'], 'IGEO7', 9, clip_subset_type='COARSE_CELLS', clip_cell_res=8, input_address_type='Z7_STRING', output_address_type='Z7_STRING')"
   ]
  },
  {
   "cell_type": "code",
   "execution_count": null,
   "id": "fce72358-70b8-4dde-ba8c-a6f2a4f62960",
   "metadata": {},
   "outputs": [],
   "source": [
    "parent_child.reset_index().plot(column='index',cmap='tab20')"
   ]
  },
  {
   "cell_type": "code",
   "execution_count": null,
   "id": "d05323aa-d8fc-4b69-973d-a8254b8694d7",
   "metadata": {},
   "outputs": [],
   "source": [
    "ax = parent_child.plot()\n",
    "parent_child.apply(lambda x: ax.annotate(text=x['name'], xy=x.geometry.centroid.coords[0], ha='center'), axis=1)"
   ]
  },
  {
   "cell_type": "code",
   "execution_count": null,
   "id": "af2bb73f-8bae-4807-b2b5-a28942c05947",
   "metadata": {},
   "outputs": [],
   "source": [
    "for k, v in nn.items():\n",
    "        p = np.array([np.min(np.abs(i - nearby_zeros)) / (scale_down**(len(cell_ids)-1)) for i in v])\n",
    "        p = np.where(1-p <1e-9,1,p)\n",
    "        #print(p)\n",
    "        if (len(np.unique(p)) == 1):\n",
    "            # the neighbour itself is zero\n",
    "            print(0)\n",
    "        else:\n",
    "            #print(np.argmin(p))\n",
    "            print(len(directions) - (np.argmin(p)+1))            "
   ]
  }
 ],
 "metadata": {
  "kernelspec": {
   "display_name": "Python 3 (ipykernel)",
   "language": "python",
   "name": "python3"
  },
  "language_info": {
   "codemirror_mode": {
    "name": "ipython",
    "version": 3
   },
   "file_extension": ".py",
   "mimetype": "text/x-python",
   "name": "python",
   "nbconvert_exporter": "python",
   "pygments_lexer": "ipython3",
   "version": "3.11.11"
  }
 },
 "nbformat": 4,
 "nbformat_minor": 5
}
